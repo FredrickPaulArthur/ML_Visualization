{
 "cells": [
  {
   "cell_type": "markdown",
   "id": "3d3d293b",
   "metadata": {},
   "source": [
    "# EDA and Feature Engineering Checklist"
   ]
  },
  {
   "cell_type": "markdown",
   "id": "62944567",
   "metadata": {},
   "source": [
    "## Loading and basic details"
   ]
  },
  {
   "cell_type": "markdown",
   "id": "a6af41d2",
   "metadata": {},
   "source": [
    "1. Load the Dataset into DataFrame.\n",
    "    - If there are more than 1 data sources (CSVs, Tables, etc) look for foreign keys to merge into 1 DataFrame.\n",
    "\n",
    "2. Take a look at the present columns using df.columns\n",
    "\n",
    "3. For details like datatypes of each column use df.info\n",
    "\n",
    "4. To get statistical details of numerical columns use df.describe()"
   ]
  },
  {
   "cell_type": "markdown",
   "id": "9ef377bf",
   "metadata": {},
   "source": [
    "## Data Analysis"
   ]
  },
  {
   "cell_type": "markdown",
   "id": "54c08926",
   "metadata": {},
   "source": [
    "1. Find out Missing Values using,\n",
    "    - df.isnull()\n",
    "    - sns.heatmap(df.isnull(), yticklabels=False, cbar=False, cmap=\"viridis\")\n",
    "\n",
    "2. The Distribution of datapoints can be classified using\n",
    "    - df.feature_name.value_counts()\n",
    "\n",
    "3. This can be plotted in Pie Chart. Piecharts are useful for finding the distribution of each feature's values.\n",
    "    - plt.pie(values, index)\n",
    "\n",
    "4. To Filter Datapoints, Group features like in SQL using,\n",
    "    - df.groupby([f1, f2, f3]).size().reset_index()\n",
    "\n",
    "5. To get the Top 10 values of a Column\n",
    "    - df.groupby(['Feature_name']).size().reset_index().rename(columns={0:'Count'}).sort_values(by=\"Count\", ascending=False)[:10]\n",
    "\n",
    "6. To compare 2 features and distribution with another feature, draw a Bar Plot\n",
    "    - sns.barplot(x=\"feat1\", y=\"feat2\", data=df, hue='feat_3', palette=[...])\n",
    "\n",
    "7. For analysing each feature's count & distribution use a Count Plot.\n",
    "    - sns.countplot(x=\"feat1\", data=df, hue='feat2', palette=[...])\n",
    "\n",
    "8. Write Observations along the way"
   ]
  },
  {
   "cell_type": "markdown",
   "id": "6ce7d9b3",
   "metadata": {},
   "source": [
    "## Feature Engineering"
   ]
  },
  {
   "cell_type": "markdown",
   "id": "bde4bda5",
   "metadata": {},
   "source": [
    "1. Type convert all features to int/float using .astype(int)\n",
    "\n",
    "\n",
    "2. Encoding Categorical features\n",
    "\n",
    "    - For Ordinal Features that have a meaningful order use Ordinal Encoding like,\n",
    "        - Ratings - Poor, Fair, Good, Very Good\n",
    "        - Sizes - Small, Medium, Large, etc\n",
    "        - Use df.map({...}) to encode\n",
    "\n",
    "    - For Nominal Features that dont have any meaningful order use Nominal Encoding (One Hot Encoding) like,\n",
    "        - Color - Red, Blue, Green\n",
    "        - Names - India, USA, UK\n",
    "        - Gender - Male, Female\n",
    "        - Use pd.get_dummies(df)\n",
    "        - For the number of Categories,\n",
    "            - < 20 categories\tOne-Hot Encoding\n",
    "            - 20–100 categories\tFrequency or Target\n",
    "            - 100+ categories (especially with text/IDs)\tTarget, Hashing, or Embeddings\n",
    "\n",
    "\n",
    "3. Handling Missing values\n",
    "\n",
    "    - Fill it with the MODE of the Feature - df['feature'] = df[\"feature\"].fillna(df[\"feature\"].mode()[0])\n",
    "    - Or use techniques like SMOTE"
   ]
  }
 ],
 "metadata": {
  "language_info": {
   "name": "python"
  }
 },
 "nbformat": 4,
 "nbformat_minor": 5
}
